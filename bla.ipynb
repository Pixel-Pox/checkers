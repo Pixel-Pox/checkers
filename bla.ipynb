{
 "cells": [
  {
   "cell_type": "code",
   "execution_count": 159,
   "metadata": {},
   "outputs": [],
   "source": [
    "import numpy as np\n",
    "ROWS = 4\n",
    "COLS = 4\n",
    "row = 1\n",
    "col = 2"
   ]
  },
  {
   "cell_type": "code",
   "execution_count": 160,
   "metadata": {},
   "outputs": [
    {
     "data": {
      "text/plain": [
       "[[[0, 0], [0, 1], [0, 2], [0, 3]],\n",
       " [[1, 0], [1, 1], [1, 2], [1, 3]],\n",
       " [[2, 0], [2, 1], [2, 2], [2, 3]],\n",
       " [[3, 0], [3, 1], [3, 2], [3, 3]]]"
      ]
     },
     "execution_count": 160,
     "metadata": {},
     "output_type": "execute_result"
    }
   ],
   "source": [
    "b = [[[j, i] for i in range(ROWS)] for j in range(COLS)]\n",
    "b"
   ]
  },
  {
   "cell_type": "code",
   "execution_count": 191,
   "metadata": {},
   "outputs": [],
   "source": [
    "moves = []\n",
    "diagonals = []\n",
    "positions = [[[j, i] for i in range(ROWS)] for j in range(COLS)]\n",
    "possible_skip = False\n",
    "row = 1\n",
    "col = 2\n",
    "diag1 = np.diagonal(positions, -(row - col)).T\n",
    "diag2 = np.flipud(positions).diagonal(-(ROWS - 1 - row - col)).T\n",
    "\n",
    "conc = np.concatenate([diag1, diag2])"
   ]
  },
  {
   "cell_type": "code",
   "execution_count": 193,
   "metadata": {},
   "outputs": [
    {
     "data": {
      "text/plain": [
       "[[0, 1], [1, 2], [2, 3], [3, 0], [2, 1], [1, 2], [0, 3]]"
      ]
     },
     "execution_count": 193,
     "metadata": {},
     "output_type": "execute_result"
    }
   ],
   "source": [
    "conc.tolist()"
   ]
  },
  {
   "cell_type": "code",
   "execution_count": 3,
   "metadata": {},
   "outputs": [],
   "source": [
    "moves = {\"[2, 3]\": False, \n",
    "        \"[1, 4]\": True}"
   ]
  },
  {
   "cell_type": "code",
   "execution_count": 7,
   "metadata": {},
   "outputs": [
    {
     "name": "stdout",
     "output_type": "stream",
     "text": [
      "[2, 3] : False\n",
      "[1, 4] : True\n"
     ]
    }
   ],
   "source": [
    "for key, value in moves.items(): \n",
    "    print(f'{key} : {value}')"
   ]
  },
  {
   "cell_type": "code",
   "execution_count": 16,
   "metadata": {},
   "outputs": [
    {
     "name": "stdout",
     "output_type": "stream",
     "text": [
      "[2, 3]\n",
      "[1, 4]\n"
     ]
    }
   ],
   "source": [
    "import ast\n",
    "for key, value in moves.items():\n",
    "    res = ast.literal_eval(key)\n",
    "    print(res)"
   ]
  },
  {
   "cell_type": "code",
   "execution_count": null,
   "metadata": {},
   "outputs": [],
   "source": []
  }
 ],
 "metadata": {
  "interpreter": {
   "hash": "c98a339f9adf004320c564164355c731f56b5dbb99adf5e764dd0b19c2a0d1e9"
  },
  "kernelspec": {
   "display_name": "Python 3.10.1 64-bit",
   "language": "python",
   "name": "python3"
  },
  "language_info": {
   "codemirror_mode": {
    "name": "ipython",
    "version": 3
   },
   "file_extension": ".py",
   "mimetype": "text/x-python",
   "name": "python",
   "nbconvert_exporter": "python",
   "pygments_lexer": "ipython3",
   "version": "3.10.1"
  },
  "orig_nbformat": 4
 },
 "nbformat": 4,
 "nbformat_minor": 2
}
