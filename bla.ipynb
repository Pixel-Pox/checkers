{
 "cells": [
  {
   "cell_type": "code",
   "execution_count": 159,
   "metadata": {},
   "outputs": [],
   "source": [
    "import numpy as np\n",
    "ROWS = 4\n",
    "COLS = 4\n",
    "row = 1\n",
    "col = 2"
   ]
  },
  {
   "cell_type": "code",
   "execution_count": 160,
   "metadata": {},
   "outputs": [
    {
     "data": {
      "text/plain": [
       "[[[0, 0], [0, 1], [0, 2], [0, 3]],\n",
       " [[1, 0], [1, 1], [1, 2], [1, 3]],\n",
       " [[2, 0], [2, 1], [2, 2], [2, 3]],\n",
       " [[3, 0], [3, 1], [3, 2], [3, 3]]]"
      ]
     },
     "execution_count": 160,
     "metadata": {},
     "output_type": "execute_result"
    }
   ],
   "source": [
    "b = [[[j, i] for i in range(ROWS)] for j in range(COLS)]\n",
    "b"
   ]
  },
  {
   "cell_type": "code",
   "execution_count": 191,
   "metadata": {},
   "outputs": [],
   "source": [
    "moves = []\n",
    "diagonals = []\n",
    "positions = [[[j, i] for i in range(ROWS)] for j in range(COLS)]\n",
    "possible_skip = False\n",
    "row = 1\n",
    "col = 2\n",
    "diag1 = np.diagonal(positions, -(row - col)).T\n",
    "diag2 = np.flipud(positions).diagonal(-(ROWS - 1 - row - col)).T\n",
    "\n",
    "conc = np.concatenate([diag1, diag2])"
   ]
  },
  {
   "cell_type": "code",
   "execution_count": 193,
   "metadata": {},
   "outputs": [
    {
     "data": {
      "text/plain": [
       "[[0, 1], [1, 2], [2, 3], [3, 0], [2, 1], [1, 2], [0, 3]]"
      ]
     },
     "execution_count": 193,
     "metadata": {},
     "output_type": "execute_result"
    }
   ],
   "source": [
    "conc.tolist()"
   ]
  },
  {
   "cell_type": "code",
   "execution_count": 3,
   "metadata": {},
   "outputs": [],
   "source": [
    "moves = {\"[2, 3]\": False, \n",
    "        \"[1, 4]\": True}"
   ]
  },
  {
   "cell_type": "code",
   "execution_count": 7,
   "metadata": {},
   "outputs": [
    {
     "name": "stdout",
     "output_type": "stream",
     "text": [
      "[2, 3] : False\n",
      "[1, 4] : True\n"
     ]
    }
   ],
   "source": [
    "for key, value in moves.items(): \n",
    "    print(f'{key} : {value}')"
   ]
  },
  {
   "cell_type": "code",
   "execution_count": 16,
   "metadata": {},
   "outputs": [
    {
     "name": "stdout",
     "output_type": "stream",
     "text": [
      "[2, 3]\n",
      "[1, 4]\n"
     ]
    }
   ],
   "source": [
    "import ast\n",
    "for key, value in moves.items():\n",
    "    res = ast.literal_eval(key)\n",
    "    print(res)"
   ]
  },
  {
   "cell_type": "code",
   "execution_count": 22,
   "metadata": {},
   "outputs": [],
   "source": [
    "import numpy as np \n",
    "moves = {}\n",
    "diagonals = []\n",
    "positions = [[[j, i] for i in range(10)] for j in range(10)]\n",
    "row = 3\n",
    "col = 5\n",
    "\n",
    "#first diagonal with offset of -(row - col)\n",
    "diag1 = np.diagonal(positions, -(row - col)).T\n",
    "#second diagonal with offset accounted for the flip\n",
    "diag2 = np.flipud(positions).diagonal(-(10 - 1 - row - col)).T\n",
    "diagonals.append(diag1.tolist())\n",
    "diagonals.append(diag2.tolist())"
   ]
  },
  {
   "cell_type": "code",
   "execution_count": 23,
   "metadata": {},
   "outputs": [
    {
     "data": {
      "text/plain": [
       "[[[0, 2], [1, 3], [2, 4], [3, 5], [4, 6], [5, 7], [6, 8], [7, 9]],\n",
       " [[8, 0], [7, 1], [6, 2], [5, 3], [4, 4], [3, 5], [2, 6], [1, 7], [0, 8]]]"
      ]
     },
     "execution_count": 23,
     "metadata": {},
     "output_type": "execute_result"
    }
   ],
   "source": [
    "piece_idx_1 = diagonals[0].index([row, col])\n",
    "piece_idx_2 = diagonals[1].index([row, col])\n",
    "diagonals\n",
    "\n"
   ]
  },
  {
   "cell_type": "code",
   "execution_count": 28,
   "metadata": {},
   "outputs": [],
   "source": [
    "forward_left = list(reversed(diagonals[0][:piece_idx_1]))\n",
    "back_left = list(reversed(diagonals[1][:piece_idx_2]))\n",
    "forward_right = diagonals[1][piece_idx_2+1:]\n",
    "back_right = diagonals[0][piece_idx_1+1:]"
   ]
  },
  {
   "cell_type": "code",
   "execution_count": 29,
   "metadata": {},
   "outputs": [
    {
     "name": "stdout",
     "output_type": "stream",
     "text": [
      "[[4, 4], [5, 3], [6, 2], [7, 1], [8, 0]]\n"
     ]
    }
   ],
   "source": [
    "print(back_left)"
   ]
  },
  {
   "cell_type": "code",
   "execution_count": 30,
   "metadata": {},
   "outputs": [],
   "source": [
    "diagonals = [[forward_left, back_left,forward_left, forward_right]]"
   ]
  },
  {
   "cell_type": "code",
   "execution_count": 31,
   "metadata": {},
   "outputs": [
    {
     "data": {
      "text/plain": [
       "[[[[2, 4], [1, 3], [0, 2]],\n",
       "  [[4, 4], [5, 3], [6, 2], [7, 1], [8, 0]],\n",
       "  [[2, 4], [1, 3], [0, 2]],\n",
       "  [[2, 6], [1, 7], [0, 8]]]]"
      ]
     },
     "execution_count": 31,
     "metadata": {},
     "output_type": "execute_result"
    }
   ],
   "source": [
    "diagonals"
   ]
  },
  {
   "cell_type": "code",
   "execution_count": null,
   "metadata": {},
   "outputs": [],
   "source": []
  }
 ],
 "metadata": {
  "interpreter": {
   "hash": "c98a339f9adf004320c564164355c731f56b5dbb99adf5e764dd0b19c2a0d1e9"
  },
  "kernelspec": {
   "display_name": "Python 3.10.1 64-bit",
   "language": "python",
   "name": "python3"
  },
  "language_info": {
   "codemirror_mode": {
    "name": "ipython",
    "version": 3
   },
   "file_extension": ".py",
   "mimetype": "text/x-python",
   "name": "python",
   "nbconvert_exporter": "python",
   "pygments_lexer": "ipython3",
   "version": "3.10.1"
  },
  "orig_nbformat": 4
 },
 "nbformat": 4,
 "nbformat_minor": 2
}
